{
 "cells": [
  {
   "cell_type": "code",
   "execution_count": null,
   "id": "e250326d-c464-46f6-9727-4a11e70996bc",
   "metadata": {},
   "outputs": [],
   "source": [
    "import pandas as pd\n",
    "import os\n",
    "import matplotlib.pyplot as plt\n",
    "import math\n",
    "from matplotlib.colors import hsv_to_rgb\n",
    "import numpy as np\n",
    "import re"
   ]
  },
  {
   "cell_type": "markdown",
   "id": "414bfa7f-35d4-403c-96b2-f00d93388537",
   "metadata": {},
   "source": [
    "## 1. BACKGROUND SUBTRACTION"
   ]
  },
  {
   "cell_type": "code",
   "execution_count": null,
   "id": "ab9b2ffe-303b-4496-9252-872647ea87f8",
   "metadata": {},
   "outputs": [],
   "source": [
    "# Set input/output files\n",
    "file_path = \"/Users/path/to/raw_data_results.csv\"\n",
    "data = pd.read_csv(file_path)\n",
    "\n",
    "output_base_dir = \"/Users/output/path\"\n",
    "\n",
    "basename = os.path.basename(file_path).replace(\"_results.csv\", \"\")\n",
    "output_base = basename\n",
    "output_dir = os.path.join(output_base_dir, basename)\n",
    "os.makedirs(output_dir, exist_ok=True)"
   ]
  },
  {
   "cell_type": "code",
   "execution_count": null,
   "id": "fc037399-ff5a-4652-a685-6ff6309603de",
   "metadata": {},
   "outputs": [],
   "source": [
    "# Rename the first column to \"Frames\"\n",
    "data.rename(columns={data.columns[0]: \"Frames\"}, inplace=True)\n",
    "\n",
    "#Add a new column \"Time (min)\" that converts frames to minutes\n",
    "data.insert(1, \"Time (min)\", data[\"Frames\"] / 10 / 60)     ##Sampling Frequency (Hz)/60\n",
    "\n",
    "# Delete the \"Label\" column (if it exists)\n",
    "if \"Label\" in data.columns:\n",
    "    data.drop(columns=[\"Label\"], inplace=True)\n",
    "\n",
    "# Subtract the value of the last item in each row (Background ROI) from all values in that row (excluding \"Frames\" and \"Time (s)\")\n",
    "data_minus_bgd = data.copy()\n",
    "for index, row in data.iterrows():\n",
    "    last_value = row.iloc[-1]  # Get the last value in the current row\n",
    "    data_minus_bgd.iloc[index, 2:] = row.iloc[2:] - last_value  # Subtract from all columns except \"Frames\" and \"Time (s)\"\n",
    "\n",
    "output_name = f\"{output_base}_results_minus_bgd.csv\"\n",
    "output_path = os.path.join(output_dir, output_name)\n",
    "print(f\"Modified dataset saved to: {output_path}\")"
   ]
  },
  {
   "cell_type": "markdown",
   "id": "262a8e6a-f7ca-4e18-9a1b-f080eb8e284d",
   "metadata": {},
   "source": [
    "## 2. INDIVIDUAL TRACES VIEWER"
   ]
  },
  {
   "cell_type": "code",
   "execution_count": null,
   "id": "6eea8653-c1d1-45bd-99b2-08a8268fc8c0",
   "metadata": {},
   "outputs": [],
   "source": [
    "def get_color_map(n, cycles=3):\n",
    "    \"\"\"\n",
    "    Generate `n` visually distinct HSV-based colors, cycling through the hue range `cycles` times.\n",
    "    \"\"\"\n",
    "    hues = [(i * cycles / n) % 1.0 for i in range(n)]\n",
    "    return [hsv_to_rgb((h, 1, 1)) for h in hues]\n",
    "\n",
    "data = pd.read_csv(output_name) # Auto uses background subtracted data from 1\n",
    "time = data[\"Time (min)\"]  # x-axis\n",
    "trace_columns = [col for col in data.columns if col.startswith(\"Mean(\") and \"Background\" not in col]\n",
    "lum_columns = data[trace_columns]\n",
    "\n",
    "# Parameters\n",
    "rolling_mean = lum_columns.rolling(window=5).mean()\n",
    "n_cells = rolling_mean.shape[1]\n",
    "n_cols = 3\n",
    "n_rows = math.ceil(n_cells / n_cols)\n",
    "\n",
    "colors = get_color_map(n_cells)\n",
    "\n",
    "fig, axes = plt.subplots(n_rows, n_cols, figsize=(12, 2.5 * n_rows), sharex=True, facecolor='white')\n",
    "axes = axes.flatten()\n",
    "\n",
    "for idx, (col, ax) in enumerate(zip(rolling_mean.columns, axes)):\n",
    "    ax.plot(time, rolling_mean[col], color=colors[idx], linewidth=1.5)\n",
    "\n",
    "    # Title per subplot\n",
    "    ax.set_title(f\"Cell {idx + 1}\", loc='left', fontsize=11, fontweight='bold')\n",
    "    ax.set_facecolor('white')\n",
    "    ax.spines['top'].set_visible(False)\n",
    "    ax.spines['right'].set_visible(False)\n",
    "\n",
    "output_name = f\"{output_base}_individual_traces\"\n",
    "output_path = os.path.join(output_dir, output_name)\n",
    "print(f\"Individual traces saved to {output_path}\")\n",
    "\n",
    "# Export as PNG and PDF\n",
    "plt.savefig(f\"{output_name}.png\", dpi=300, bbox_inches=\"tight\")\n",
    "plt.savefig(f\"{output_name}.pdf\", bbox_inches=\"tight\")"
   ]
  },
  {
   "cell_type": "code",
   "execution_count": null,
   "id": "8292cf93-dd6c-4bce-84f1-7aea4b127ff6",
   "metadata": {},
   "outputs": [],
   "source": []
  }
 ],
 "metadata": {
  "kernelspec": {
   "display_name": "Python 3 (ipykernel)",
   "language": "python",
   "name": "python3"
  },
  "language_info": {
   "codemirror_mode": {
    "name": "ipython",
    "version": 3
   },
   "file_extension": ".py",
   "mimetype": "text/x-python",
   "name": "python",
   "nbconvert_exporter": "python",
   "pygments_lexer": "ipython3",
   "version": "3.11.7"
  }
 },
 "nbformat": 4,
 "nbformat_minor": 5
}
